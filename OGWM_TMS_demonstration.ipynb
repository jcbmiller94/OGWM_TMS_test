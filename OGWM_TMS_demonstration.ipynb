{
 "cells": [
  {
   "cell_type": "markdown",
   "metadata": {},
   "source": [
    "### HWNI Boot Camp - TMS introduction and demo "
   ]
  },
  {
   "cell_type": "markdown",
   "metadata": {},
   "source": [
    "The following jupyter notebook is a quick demonstration of how a TMS study is designed, implemented, and analyzed. \n",
    "\n",
    "#### You can 'run' each cell by pressing _shift_ and *return* at the same time "
   ]
  },
  {
   "cell_type": "code",
   "execution_count": null,
   "metadata": {},
   "outputs": [],
   "source": [
    "# import python stuff \n",
    "import numpy as np\n",
    "np.set_printoptions(precision = 3)\n",
    "import matplotlib.pyplot as plt\n",
    "%matplotlib inline\n",
    "import pandas as pd\n",
    "pd.set_option('precision',2)\n",
    "import scipy.io as io\n",
    "import scipy.stats as stats\n",
    "import seaborn as sns\n",
    "sns.set(color_codes=True)\n",
    "sns.set_style('white')\n",
    "import glob\n",
    "import nilearn\n",
    "nilearn.__version__\n",
    "from IPython.display import Image"
   ]
  },
  {
   "cell_type": "markdown",
   "metadata": {},
   "source": [
    "Every study starts with a research question. You'll see ours in the cell below. \n",
    "\n",
    "The experimental task we gave participants was to remember a direction (*left / right / up / down*). While they remembered this direction, they had to perform a movement based upon a color. This movement could be in the same (comaptible) or different (incompatible) direction as the word they are remembering. \n",
    "\n",
    "In general, people are much less accurate and respond more slowly when movements are _incompatible_. We've called this the compatibility effect. "
   ]
  },
  {
   "cell_type": "code",
   "execution_count": null,
   "metadata": {
    "scrolled": false
   },
   "outputs": [],
   "source": [
    "Image('figures/task.png')"
   ]
  },
  {
   "cell_type": "markdown",
   "metadata": {},
   "source": [
    "#### We had participants perform 9 blocks of this task, for an hour-long experiment. \n",
    "\n",
    "#### In each of the blocks, the ratio of compatible to incompatible trials was different. The more compatible trials, the more likely, we think, people are to make mistakes, because the memory item is genrally useful. \n",
    "\n",
    "#### This is akin to a *Stroop* effect, but here the interference is between memory and action, as opposed to percpetion and language. "
   ]
  },
  {
   "cell_type": "code",
   "execution_count": null,
   "metadata": {},
   "outputs": [],
   "source": [
    "Image('figures/gating.png')"
   ]
  },
  {
   "cell_type": "markdown",
   "metadata": {},
   "source": [
    "### We hypothesized the the *lateral prefrontal cortex* would be involved in controlling the interaction between working memory and motor behavior. \n",
    "\n",
    "#### To determine if this is the case, we had participants perform the task after TMS to the lateral PFC. Participants did the experiment 3 times: \n",
    "- continuous theta-burst TMS ==> reduce PFC activity\n",
    "- intermittent theta-burst TMS ==> boost PFC activity \n",
    "- no TMS ==> 'normal' PFC activity \n",
    "\n",
    "#### See an outline of our methods below"
   ]
  },
  {
   "cell_type": "code",
   "execution_count": null,
   "metadata": {},
   "outputs": [],
   "source": [
    "Image('figures/study_design.png')"
   ]
  },
  {
   "cell_type": "markdown",
   "metadata": {},
   "source": [
    "#### Why do you think different patterns of TMS produce different effects on neural excitability? What do you think these frequency-specific patterns are based on?\n",
    "\n",
    "*See Huang et al (2005) if you want to find out more about why:* https://www.sciencedirect.com/science/article/pii/S0896627304008463\n",
    "\n",
    "Let's plot 20 s of both cTBS and iTBS below, for a closer look at these types of TMS"
   ]
  },
  {
   "cell_type": "code",
   "execution_count": null,
   "metadata": {},
   "outputs": [],
   "source": [
    "fig, ax = plt.subplots(2, figsize = (15,6))\n",
    "plt.subplots_adjust(hspace=0.5)\n",
    "\n",
    "cTBS_length = 40\n",
    "n_bursts = 200\n",
    "n_pulses = 600 \n",
    "\n",
    "ax[0].set_xlim(0,cTBS_length/2)\n",
    "for i in np.arange(0,cTBS_length,1/5):\n",
    "    ax[0].axvline(x=i, ymin=0.2, ymax = 0.8, color = 'orange')\n",
    "ax[0].set_title('20 seconds of continuous theta-burst', fontsize=16)\n",
    "ax[0].set_xlabel('time (s)', fontsize=12)\n",
    "    \n",
    "ax[1].set_xlim(0,cTBS_length/20*5*2)\n",
    "for i in np.arange(0,2,1/5):\n",
    "    ax[1].axvline(x=i, ymin=0.2, ymax = 0.8, color = 'lightgreen')\n",
    "    ax[1].axvline(x=i+1/50, ymin=0.2, ymax = 0.8, color = 'lightgreen')\n",
    "    ax[1].axvline(x=i+2/50, ymin=0.2, ymax = 0.8, color = 'lightgreen')\n",
    "    \n",
    "for i in np.arange(10,12,1/5):\n",
    "    ax[1].axvline(x=i, ymin=0.2, ymax = 0.8, color = 'lightgreen')\n",
    "    ax[1].axvline(x=i+1/50, ymin=0.2, ymax = 0.8, color = 'lightgreen')\n",
    "    ax[1].axvline(x=i+2/50, ymin=0.2, ymax = 0.8, color = 'lightgreen')\n",
    "ax[1].set_title('20 seconds of intermittent theta-burst', fontsize=16)\n",
    "ax[1].set_xlabel('time (s)', fontsize=12)\n",
    "\n",
    "fig, ax = plt.subplots(1, figsize = (3,3))\n",
    "ax.set_xlim(0,.1)\n",
    "for i in np.arange(0,0.061,0.02):\n",
    "    ax.axvline(x=i, ymin=0.2, ymax = 0.8, color = 'blue')\n",
    "ax.set_title('Each \"burst\" of TMS is 3 pulses in rapid succession (50 Hz)', fontsize=16)\n",
    "ax.set_xlabel('time (s)', fontsize=12)"
   ]
  },
  {
   "cell_type": "markdown",
   "metadata": {
    "collapsed": true
   },
   "source": [
    "#### Now, let's show where the TMS stimulation took place in an example TMS subject. After taking the MRI, we locate the prefrontal cortex by comapring this individual's brain anatomy to a template. \n",
    "\n",
    "#### See the example subject's anatomical (T1w) MRI below. "
   ]
  },
  {
   "cell_type": "code",
   "execution_count": null,
   "metadata": {},
   "outputs": [],
   "source": [
    "from nilearn import plotting, image\n",
    "#fig,ax = plt.subplots(1,figsize=(12,3))\n",
    "plotting.plot_anat('figures/sub-127_T1w.nii.gz', display_mode = 'z', cut_coords = np.arange(-15,75,15))"
   ]
  },
  {
   "cell_type": "markdown",
   "metadata": {},
   "source": [
    "#### Now let's add the specific point of the lateral PFC we're interested in targeting. As I showed, earlier, this is the target which we aim for during the stimulation itself"
   ]
  },
  {
   "cell_type": "code",
   "execution_count": null,
   "metadata": {
    "scrolled": false
   },
   "outputs": [],
   "source": [
    "fig,ax = plt.subplots(1,figsize=(10,5))\n",
    "display = plotting.plot_anat('figures/sub-127_T1w.nii.gz', display_mode = 'ortho',\n",
    "                             cut_coords=(-39, 54, 42), figure=fig)\n",
    "display.add_markers([(-39, 54, 42)], marker_color='orange', marker_size=75) "
   ]
  },
  {
   "cell_type": "markdown",
   "metadata": {},
   "source": [
    "### Looking at the results: let's load the data from each subject and determine the effect of TMS on the behavioral experiment"
   ]
  },
  {
   "cell_type": "code",
   "execution_count": null,
   "metadata": {
    "collapsed": true
   },
   "outputs": [],
   "source": [
    "subjects = ['OGWM_' + str(i) for i in range(101,127)] # OGWM_101 - OGWM_120\n",
    "df_combined = pd.DataFrame() # empty DataFrame \n",
    "df_means = pd.DataFrame()\n",
    "df_all_trials = pd.DataFrame()\n"
   ]
  },
  {
   "cell_type": "code",
   "execution_count": null,
   "metadata": {
    "collapsed": true
   },
   "outputs": [],
   "source": [
    "# loop through and groupby compatibility and block to make new dataframe, \n",
    "#  from which a factor plot with variance can be plotted\n",
    "\n",
    "# remove subjects if excluded\n",
    "subjects.remove('OGWM_102')\n",
    "subjects.remove('OGWM_120')\n",
    "subjects.remove('OGWM_121')\n",
    "\n",
    "TMS_sessions = ['no_TMS', 'PFC_cTBS', 'PFC_iTBS']\n",
    "\n",
    "\n",
    "for sub in subjects:\n",
    "    \n",
    "    for TMS_session in TMS_sessions:\n",
    "        \n",
    "        # get filename for given TMS session\n",
    "        fname = 'OGWM_word_SD_block_comp_TBS_{}_*_{}.txt'.format(sub,TMS_session)\n",
    "        glob.glob(fname)\n",
    "        fname = glob.glob(fname)[0]\n",
    "        session = fname.split('_')[8]+'_'+fname.split('_')[9] # sess_1 / sess_2 / sess_3\n",
    "        fname = 'OGWM_word_SD_block_comp_TBS_{}_{}_{}.txt'.format(sub,session,TMS_session)\n",
    "    \n",
    "        #fname = 'OGWM_word_SD_block_comp_{}.txt'.format(sub)\n",
    "        df = pd.read_csv(fname, header = 0, sep = '\\s+') # read in df for the subject\n",
    "        # df = df[(df.ACC == 1) & (df.probeACC == 1)] # keep only correct trials \n",
    "        df = df[['subject','session','target','block','BlockType','TrialType','move_init_bound_msecRT', 'enter_box_msecRT', 'velocity_drop_msecRT', 'msecRT', 'ACC', 'probemsecRT', 'probeACC']]\n",
    "        df['msecRT'] = pd.to_numeric(df['msecRT'], errors = 'coerce')\n",
    "        df['move_init_bound_msecRT'] = pd.to_numeric(df['move_init_bound_msecRT'], errors = 'coerce')\n",
    "        df['enter_box_msecRT'] = pd.to_numeric(df['enter_box_msecRT'], errors = 'coerce')\n",
    "        df['velocity_drop_msecRT'] = pd.to_numeric(df['velocity_drop_msecRT'], errors = 'coerce')\n",
    "        df['probemsecRT'] = pd.to_numeric(df['probemsecRT'], errors = 'coerce')\n",
    "\n",
    "        # add column for corrected movements from text file for each sub \n",
    "        corrections_fname = 'OGWM_word_SD_block_comp_TBS_{}_{}_{}_corrected_movements.txt'.format(sub,session,TMS_session)    \n",
    "        corrections_fname_1_4 = 'OGWM_word_SD_block_comp_TBS_{}_{}_{}_corrected_movements_1_4.txt'.format(sub,session,TMS_session)\n",
    "        angles_fname = 'OGWM_word_SD_block_comp_TBS_{}_{}_{}_movement_angle.txt'.format(sub,session,TMS_session)    \n",
    "        angles_fname_1_4 = 'OGWM_word_SD_block_comp_TBS_{}_{}_{}_movement_angle_1_4.txt'.format(sub,session,TMS_session)    \n",
    "        df['corrected_movements'] = np.genfromtxt(corrections_fname)\n",
    "        df['corrected_movements_1_4'] = np.genfromtxt(corrections_fname_1_4)\n",
    "        df['movement_angle'] = np.genfromtxt(angles_fname)\n",
    "        df['movement_angle_1_4'] = np.genfromtxt(angles_fname_1_4)\n",
    "        df['movement_angle_difference'] = 180-np.abs(df['movement_angle'])\n",
    "        df['movement_angle_difference_1_4'] = 180-np.abs(df['movement_angle_1_4'])\n",
    "        df_combined = pd.concat([df_combined, df])"
   ]
  },
  {
   "cell_type": "markdown",
   "metadata": {},
   "source": [
    "### Report subject accuracies for motor and probe responses"
   ]
  },
  {
   "cell_type": "code",
   "execution_count": null,
   "metadata": {
    "collapsed": true,
    "scrolled": true
   },
   "outputs": [],
   "source": [
    "df_orig = df_combined"
   ]
  },
  {
   "cell_type": "markdown",
   "metadata": {},
   "source": [
    "Below is the order of the block types for each participant"
   ]
  },
  {
   "cell_type": "code",
   "execution_count": null,
   "metadata": {
    "scrolled": false
   },
   "outputs": [],
   "source": [
    "for sub in subjects:\n",
    "    print(sub, list(df_combined.groupby(('subject')).get_group(sub).drop_duplicates(subset='block',keep='first').BlockType))"
   ]
  },
  {
   "cell_type": "code",
   "execution_count": null,
   "metadata": {
    "collapsed": true
   },
   "outputs": [],
   "source": [
    "grouped_subject = df_combined.groupby('subject') # group by subject name "
   ]
  },
  {
   "cell_type": "markdown",
   "metadata": {},
   "source": [
    "#### Are participants making more errors on compatible trials? Now let's comapre the accuracy on compatible versus incomaptible trials"
   ]
  },
  {
   "cell_type": "code",
   "execution_count": null,
   "metadata": {},
   "outputs": [],
   "source": [
    "# plot accuracy by trial type \n",
    "\n",
    "size=8\n",
    "fs=16\n",
    "\n",
    "group_acc_plot = df_combined.groupby(['subject', 'target','BlockType', 'TrialType'], as_index=False).aggregate(np.mean).groupby('BlockType').get_group('neutral')\n",
    "\n",
    "#g = sns.factorplot(x='TrialType', y = 'ACC', data = group_acc_plot, palette = 'Set2', kind = 'box', legend = False, size = size, aspect = 0.7, width = 0.4)\n",
    "#sns.stripplot(x='TrialType', y = 'ACC', data = group_acc_plot, alpha = 0.7, size = 9, color = 'gray', edgecolor = 'k', linewidth = 2)\n",
    "g = sns.factorplot(x='TrialType', y = 'ACC', col='target',data = group_acc_plot, palette = 'Set2', kind = 'point', legend = False, \n",
    "                   aspect = 0.7, size = size, scale = 2.5, errwidth = 4)\n",
    "\n",
    "# labels \n",
    "g.set_xticklabels(['compatible','incompatible'], fontsize = fs + 2)\n",
    "g.set_xlabels('Trial Type', fontsize = fs + 2)\n",
    "g.set_ylabels('Accuracy', fontsize = fs+2)\n",
    "g.set_yticklabels(fontsize = fs - 1)\n",
    "# setting ticks \n",
    "#plt.grid(b=True, which='major', color='k', linewidth=1, axis = 'y', alpha = 0.3)\n",
    "plt.tight_layout()\n",
    "#plt.ylim(0.931,1.0)\n",
    "#plt.yticks(np.arange(0.93,1,0.1))\n",
    "#plt.minorticks_on()\n",
    "#plt.grid(b=True, which='minor', color='k', linewidth=0.5, axis = 'y', alpha = 0.3, linestyle = '--')\n",
    "sns.despine(right = False, top = False)\n",
    "#plt.savefig('OGWM_block_boxplot_{}.png'.format(suffix_2), dpi=300)\n",
    "\n",
    "# test difference in accuracy by trial type (across blocks) \n",
    "comp_means = group_acc_plot[group_acc_plot.TrialType=='compatible'].probeACC\n",
    "incomp_means = group_acc_plot[group_acc_plot.TrialType=='incompatible'].probeACC\n",
    "\n",
    "# # t-test of subbject means for comp vs incomp conditions\n",
    "# t, p = stats.ttest_rel(comp_means,incomp_means)\n",
    "# print('T-test of ACC (compatible vs. incompatible subject means): \\n t = {0} \\n p = {1}'.format(t,p))"
   ]
  },
  {
   "cell_type": "markdown",
   "metadata": {},
   "source": [
    "#### Above, trial types are compared across TMS sessions. Now, let's test all the variables in out experiment:\n",
    "- TMS: *cTBS vs. iTBS vs. no TMS*\n",
    "- trial type: *compatible vs. incompatible*\n",
    "- block type: *valid vs. neutral vs. invalid*"
   ]
  },
  {
   "cell_type": "code",
   "execution_count": null,
   "metadata": {
    "scrolled": true
   },
   "outputs": [],
   "source": [
    "group_acc_plot = df_combined.groupby(['subject', 'target','BlockType', 'TrialType'], as_index=False).aggregate(np.mean)\n",
    "group_acc_plot"
   ]
  },
  {
   "cell_type": "code",
   "execution_count": null,
   "metadata": {},
   "outputs": [],
   "source": [
    "sns.factorplot(x='TrialType', y = 'ACC', col='BlockType', row = 'target', data = group_acc_plot, \n",
    "                   palette = 'Set2', kind = 'point', legend = False, \n",
    "                   aspect = 0.75, errwidth = 4, size = 5, scale = 2, ci = 68)"
   ]
  },
  {
   "cell_type": "markdown",
   "metadata": {},
   "source": [
    "#### We can do a basic quantitative analysis to combine these factors in an ANOVA, a form of linear model"
   ]
  },
  {
   "cell_type": "code",
   "execution_count": null,
   "metadata": {},
   "outputs": [],
   "source": [
    "import statsmodels \n",
    "from statsmodels.stats.anova import AnovaRM\n",
    "\n",
    "acc_anova = df_combined.groupby(['subject', 'target','BlockType', 'TrialType'], as_index=False).aggregate(np.mean)\n",
    "anvRM = AnovaRM(acc_anova, 'ACC', 'subject', within=['target','TrialType', 'BlockType'])\n",
    "fit = anvRM.fit()\n",
    "#print(DV_measure, ': ', suffix_2, suffix)\n",
    "fit.summary()\n",
    "\n",
    "# within each trial tyoe, run an interaction!!"
   ]
  },
  {
   "cell_type": "markdown",
   "metadata": {
    "collapsed": true,
    "scrolled": true
   },
   "source": [
    "#### What effects seem most prominent in the data, and why do you think that might be?"
   ]
  },
  {
   "cell_type": "markdown",
   "metadata": {},
   "source": []
  },
  {
   "cell_type": "markdown",
   "metadata": {},
   "source": []
  },
  {
   "cell_type": "markdown",
   "metadata": {},
   "source": []
  },
  {
   "cell_type": "markdown",
   "metadata": {},
   "source": [
    "### If there is extra time, run all of the cells below to see a graph of reaction time measures. What do you think is the best way to measure reaction time in this experiment? And how might the results be different from accuracy?"
   ]
  },
  {
   "cell_type": "markdown",
   "metadata": {},
   "source": [
    "### Report RT measures - begin dropping incorrect trials for motor movement and probe "
   ]
  },
  {
   "cell_type": "code",
   "execution_count": null,
   "metadata": {
    "collapsed": true
   },
   "outputs": [],
   "source": [
    "error_trials = True\n",
    "\n",
    "if error_trials == False:\n",
    "    df_combined = df_combined[(df_combined.ACC == 1) & (df_combined.probeACC == 1)] \n",
    "    suffix_2 = 'w_o_errors'\n",
    "else: \n",
    "    df_combined = df_combined[(df_combined.ACC == 1) & (df_combined.probemsecRT != 9999000)] \n",
    "    suffix_2 = 'w_errors'\n",
    "\n",
    "# include only accurate trials, filter out any trials with ACC or probeACC not equal to 1\n",
    "#df_combined = df_combined[(df_combined.ACC == 1) & (df_combined.probeACC == 1)] \n",
    "# include inaccurate trials but exclude nonresponse trials \n",
    "#df_combined = df_combined[(df_combined.ACC == 1) & (df_combined.probemsecRT != 9999000)] "
   ]
  },
  {
   "cell_type": "markdown",
   "metadata": {},
   "source": [
    "#### Trim subject RT distributions for +/- 3 SD"
   ]
  },
  {
   "cell_type": "code",
   "execution_count": null,
   "metadata": {
    "collapsed": true
   },
   "outputs": [],
   "source": [
    "def trim_outlier_RTs(df_data, DV):\n",
    "    \"\"\"\n",
    "    Loop through subjects incombined dataframe and trim outlierrs +/- 3 SD from mean RT within each subject\n",
    "    \n",
    "    df_data: Pandas DataFrame concatenated across subjects \n",
    "    DV: dependent variable to trim \n",
    "    \"\"\"\n",
    "    \n",
    "    df_combined_trimmed = pd.DataFrame()\n",
    "    subjects = df_data.subject.unique()\n",
    "    \n",
    "    for sub in subjects:\n",
    "        df_sub = df_data[df_data.subject == sub]\n",
    "        df_sub_trimmed = trim_outliers_subject(df_sub, DV)\n",
    "        df_combined_trimmed = pd.concat([df_combined_trimmed, df_sub_trimmed])\n",
    "        \n",
    "    print('Original data shape: ', df_data.shape)\n",
    "    print('Trimmed data shape: ', df_combined_trimmed.shape)\n",
    "    return df_combined_trimmed \n",
    "\n",
    "def trim_outliers_subject(df_sub, DV):\n",
    "    \"\"\"\n",
    "    Within a given subject's data, trim RTs +/- 3 SD from mean RT\n",
    "    \"\"\"\n",
    "    rt_dist = df_sub[DV]\n",
    "    rt_mean = np.mean(rt_dist)\n",
    "    rt_std = np.std(rt_dist)\n",
    "    \n",
    "    bool_outliers = np.abs(rt_dist - rt_mean) > rt_std*3 # boolean indices for the outliers \n",
    "    df_sub_trimmed = df_sub[np.logical_not(bool_outliers)] # keep all data that is NOT outlier \n",
    "    \n",
    "    outliers = rt_dist[np.abs(rt_dist - rt_mean) > rt_std*3]\n",
    "    print('Outlier {} for subject {}: \\n {}\\n'.format(DV, df_sub.subject.unique(),outliers))\n",
    "    #rt_include = rt_dist[np.logical_not(np.absolute(rt_dist - rt_mean) > rt_std*3)]\n",
    "    \n",
    "    return df_sub_trimmed "
   ]
  },
  {
   "cell_type": "code",
   "execution_count": null,
   "metadata": {},
   "outputs": [],
   "source": [
    "# Add a movement time parameter\n",
    "df_combined['movement_time_msecRT'] = df_combined['msecRT'] - df_combined['move_init_bound_msecRT']"
   ]
  },
  {
   "cell_type": "code",
   "execution_count": null,
   "metadata": {},
   "outputs": [],
   "source": [
    "df_combined_trimmed = trim_outlier_RTs(df_combined, 'move_init_bound_msecRT')\n",
    "df_combined_trimmed = trim_outlier_RTs(df_combined_trimmed, 'movement_time_msecRT')"
   ]
  },
  {
   "cell_type": "code",
   "execution_count": null,
   "metadata": {},
   "outputs": [],
   "source": [
    "# calculate proportion of outlier trials removed \n",
    "(df_combined.shape[0] - df_combined_trimmed.shape[0])/df_combined.shape[0]"
   ]
  },
  {
   "cell_type": "code",
   "execution_count": null,
   "metadata": {
    "collapsed": true
   },
   "outputs": [],
   "source": [
    "grouped_subj_TT = df_combined_trimmed.groupby(['subject', 'TrialType'], as_index=False)\n",
    "grouped_subj_TT_means = grouped_subj_TT.aggregate(np.mean)"
   ]
  },
  {
   "cell_type": "markdown",
   "metadata": {},
   "source": [
    "### Report RT measures by block types \n",
    "### Set DV measure - total RT, movement initiation, movement time, corrected movements"
   ]
  },
  {
   "cell_type": "code",
   "execution_count": null,
   "metadata": {
    "collapsed": true
   },
   "outputs": [],
   "source": [
    "DV = 'move_init_bound_msecRT'\n",
    "#DV = 'movement_time_msecRT'\n",
    "#DV = 'msecRT'\n",
    "#DV = 'correction_proportion'\n",
    "#DV = 'correction_proportion_1_4'\n",
    "#DV = 'movement_angle_difference'\n",
    "#DV = 'movement_angle_difference_1_4'\n",
    "\n",
    "corrected_movements = True  # True/False to include corrected movements \n",
    "corrected_movements_1_4 = True\n",
    "\n",
    "pal = [(0.40000000000000002, 0.76078431372549016, 0.6470588235294118),\n",
    " (0.55294117647058827, 0.62745098039215685, 0.79607843137254897),\n",
    "           (0.9882352941176471, 0.55294117647058827, 0.3843137254901961)]"
   ]
  },
  {
   "cell_type": "code",
   "execution_count": null,
   "metadata": {},
   "outputs": [],
   "source": [
    "print(df_combined_trimmed.shape)\n",
    "\n",
    "if corrected_movements == False:\n",
    "    if corrected_movements_1_4 == False:\n",
    "        df_analyses = df_combined_trimmed[df_combined_trimmed.corrected_movements==0]\n",
    "    else:\n",
    "        df_analyses = df_combined_trimmed[df_combined_trimmed.corrected_movements_1_4==0]\n",
    "    suffix = 'w_o_corrections'\n",
    "elif corrected_movements == True and corrected_movements_1_4 == False:\n",
    "    df_analyses = df_combined_trimmed[df_combined_trimmed.corrected_movements_1_4==0]\n",
    "    suffix = 'w_o_corrections_1_4'\n",
    "else: \n",
    "    df_analyses = df_combined_trimmed\n",
    "    suffix = 'w_corrections'\n",
    "\n",
    "    \n",
    "if corrected_movements_1_4 == True:\n",
    "    suffix += '_1_4'\n",
    "    \n",
    "print(df_analyses.shape)\n",
    "    \n",
    "# if corrected_movements_1_4 == False:\n",
    "#     df_analyses = df_combined_trimmed[df_combined_trimmed.corrected_movements==0]\n",
    "#     suffix = 'w_o_corrections'\n",
    "# else: \n",
    "#     df_analyses = df_combined_trimmed\n",
    "#     suffix = 'w_corrections'"
   ]
  },
  {
   "cell_type": "code",
   "execution_count": null,
   "metadata": {
    "collapsed": true
   },
   "outputs": [],
   "source": [
    "grouped_subj_TT_BT = df_analyses.groupby(['subject','target','TrialType','BlockType'], as_index=False)\n",
    "grouped_subj_TT_BT_means = grouped_subj_TT_BT.aggregate(np.mean)\n",
    "grouped_subj_TT_BT_sum = grouped_subj_TT_BT.aggregate(np.sum)"
   ]
  },
  {
   "cell_type": "code",
   "execution_count": null,
   "metadata": {
    "collapsed": true,
    "scrolled": true
   },
   "outputs": [],
   "source": [
    "#grouped_subj_TT_BT_means.to_csv('OGWM_TMS_aggregated_mean_no_outliers.csv')"
   ]
  },
  {
   "cell_type": "code",
   "execution_count": null,
   "metadata": {
    "collapsed": true
   },
   "outputs": [],
   "source": [
    "## counts of corrected movements\n",
    "\n",
    "block_types = df_combined.BlockType.unique()\n",
    "trial_types = df_combined.TrialType.unique()\n",
    "target_types = df_combined.TrialType.unique()\n",
    "\n",
    "import itertools\n",
    "block_trial_combinations = list(itertools.product(trial_types, block_types, target_types))\n",
    "\n",
    "subjects = df_combined.subject.unique()\n",
    "\n",
    "grouped_subj_TT_BT_sum['trial_count'] = np.nan\n",
    "#trial_counts = np.empty(shape=(len(subjects),len(block_trial_combinations)))\n",
    "\n",
    "# for i, sub in enumerate(subjects):\n",
    "#     #print(sub)\n",
    "#     df_sub = df_combined[df_combined.subject == sub]\n",
    "#     df_sub_grouped = df_sub.groupby(['TrialType','BlockType']) \n",
    "#     for j, combo in enumerate(block_trial_combinations): \n",
    "#         df_combo = df_sub_grouped.get_group(combo)\n",
    "#         trials = df_combo.shape[0]\n",
    "        \n",
    "#     df_sub_grouped = df_sub.groupby(['TrialType','BlockType']) \n",
    "\n",
    "for index, row in grouped_subj_TT_BT_sum.iterrows():\n",
    "    \n",
    "    sub = row.subject\n",
    "    BT = row.BlockType\n",
    "    TT = row.TrialType\n",
    "    target = row.target\n",
    "    \n",
    "    df_sub = df_orig[(df_orig.subject == sub)&(df_orig.BlockType == BT)&(df_orig.TrialType == TT)&(df_orig.target == target)]\n",
    "    trials = df_sub.shape[0]\n",
    "    \n",
    "    mask = (grouped_subj_TT_BT_sum.subject==sub)&(grouped_subj_TT_BT_sum.BlockType == BT)&(grouped_subj_TT_BT_sum.TrialType == TT)&(grouped_subj_TT_BT_sum.target == target)\n",
    "    grouped_subj_TT_BT_sum.loc[mask, 'trial_count'] = trials\n",
    "\n",
    "    #grouped_subj_TT_BT_sum.loc[index].trial_count = trials \n",
    "        \n",
    "#grouped_subj_TT_BT_sum"
   ]
  },
  {
   "cell_type": "code",
   "execution_count": null,
   "metadata": {
    "collapsed": true
   },
   "outputs": [],
   "source": [
    "# divide number of corrections by number of trials in condition\n",
    "grouped_subj_TT_BT_sum['correction_proportion'] = grouped_subj_TT_BT_sum['corrected_movements']/grouped_subj_TT_BT_sum['trial_count']\n",
    "grouped_subj_TT_BT_sum['correction_proportion_1_4'] = grouped_subj_TT_BT_sum['corrected_movements_1_4']/grouped_subj_TT_BT_sum['trial_count']\n",
    "#grouped_subj_TT_BT_sum.to_csv('OGWM_TMS_aggregated_sum_no_outliers.csv')"
   ]
  },
  {
   "cell_type": "markdown",
   "metadata": {},
   "source": [
    "### box plot based on DV "
   ]
  },
  {
   "cell_type": "code",
   "execution_count": null,
   "metadata": {},
   "outputs": [],
   "source": [
    "fs = 24\n",
    "if DV == 'correction_proportion' or DV == 'correction_proportion_1_4': \n",
    "\n",
    "    #DV_graph = 'correction_proportion'\n",
    "    \n",
    "    data = grouped_subj_TT_BT_sum # use data of SUMS\n",
    "    \n",
    "    fig, ax = plt.subplots(1,3, sharey=True, figsize = (15,9)) \n",
    "\n",
    "    types = ['valid', 'neutral', 'invalid']\n",
    "    x_labels = ['80% (valid) block', '50% (neutral) block', '20% (invalid) block']\n",
    "\n",
    "    for i in range(len(types)):\n",
    "\n",
    "        # ax1\n",
    "        #data = data[data.BlockType==types[i]]\n",
    "        g=sns.factorplot(x='TrialType', y = DV,  row = 'target', data = data.groupby('BlockType').get_group(types[i]), palette = 'Set2', \n",
    "                            kind = 'factor',legend = False, size = size, aspect = 0.7, ax = ax[i], ci=95,\n",
    "                        scale = 1.5,errwidth=4)\n",
    "        #sns.stripplot(x='TrialType', y = DV_graph,  data = data.get_group(types[i]), alpha = 0.7, size = 7, \n",
    "        #              color = 'gray', edgecolor = 'k', linewidth = 2, ax = ax[i])\n",
    "        # labels \n",
    "        #ax[i].plot(0,data.DVs[i],'o')\n",
    "        ax[i].tick_params(which='both', labelsize=fs-2)\n",
    "        ax[i].set_xticklabels(['compatible','incompatible'], fontsize = fs + 2)\n",
    "        ax[i].set_xlabel(x_labels[i], fontsize = fs + 2)\n",
    "        ax[i].set_ylabel('Proportion of corrected movements', fontsize = fs+1)\n",
    "        #ax1.set_yticklabels(fontsize = fs - 1)\n",
    "        # setting ticks \n",
    "        ax[i].grid(b=True, which='major', color='k', linewidth=1, axis = 'y', alpha = 0.1)\n",
    "        ax[i].minorticks_on()\n",
    "        ax[i].grid(b=True,which='minor', color='k', linewidth=0.5, axis = 'y', alpha = 0.1, linestyle = '--')\n",
    "        sns.despine(right = False, top = False)\n",
    "        plt.close(g.fig)\n",
    "    \n",
    "else: \n",
    "    \n",
    "    data = grouped_subj_TT_BT_means # use data of MEANS\n",
    "\n",
    "    for TMS_session in TMS_sessions:\n",
    "        \n",
    "        data_session = data[data.target==TMS_session]\n",
    "        \n",
    "        fig, ax = plt.subplots(1,3, sharey=True, figsize = (10,6)) \n",
    "        plt.ylim(400,600)\n",
    "        plt.suptitle(TMS_session)\n",
    "\n",
    "        types = ['valid', 'neutral', 'invalid']\n",
    "        x_labels = ['80% (valid) block', '50% (neutral) block', '20% (invalid) block']\n",
    "\n",
    "        for i in range(len(types)):\n",
    "\n",
    "            g=sns.factorplot(x='TrialType', y = DV, data = data_session[data_session.BlockType==types[i]], palette = 'Set2', \n",
    "                            kind = 'point', legend = False, size = size, aspect = 0.7, ax = ax[i], ci=68, \n",
    "                            scale = 2.5, errwidth = 4, alpha=1)\n",
    "            #sns.stripplot(x='TrialType', y = DV,  data = data[data.BlockType==types[i]], alpha = 0.7, size = 7, \n",
    "            #              color = 'gray', edgecolor = 'k', linewidth = 2, ax = ax[i])\n",
    "            # labels \n",
    "            #ax[i].plot(0,data.DVs[i],'o')\n",
    "            ax[i].tick_params(which='both', labelsize=fs-2)\n",
    "            ax[i].set_xticklabels(['compatible ','incompatible'], fontsize = fs-10)\n",
    "            ax[i].set_xlabel(x_labels[i], fontsize = fs - 6)\n",
    "            if i == 0:\n",
    "                ax[i].set_ylabel(DV, fontsize = fs+1)\n",
    "            #ax1.set_yticklabels(fontsize = fs - 1)\n",
    "            # setting ticks \n",
    "            ax[i].grid(b=True, which='major', color='k', linewidth=1, axis = 'y', alpha = 0.1)\n",
    "            #ax[i].minorticks_on()\n",
    "            #ax[i].grid(b=True,which='minor', color='k', linewidth=0.5, axis = 'y', alpha = 0.1, linestyle = '--')\n",
    "            sns.despine(right = False, top = False)\n",
    "            plt.close(g.fig)\n",
    "            #plt.savefig\n",
    "\n",
    "            #plt.savefig('OGWM_factorplot_blocktypes_{}_{}_{}.png'.format(DV,suffix,suffix_2), dpi=300)"
   ]
  },
  {
   "cell_type": "code",
   "execution_count": null,
   "metadata": {
    "collapsed": true
   },
   "outputs": [],
   "source": []
  }
 ],
 "metadata": {
  "kernelspec": {
   "display_name": "Python 3",
   "language": "python",
   "name": "python3"
  },
  "language_info": {
   "codemirror_mode": {
    "name": "ipython",
    "version": 3
   },
   "file_extension": ".py",
   "mimetype": "text/x-python",
   "name": "python",
   "nbconvert_exporter": "python",
   "pygments_lexer": "ipython3",
   "version": "3.6.8"
  }
 },
 "nbformat": 4,
 "nbformat_minor": 2
}
